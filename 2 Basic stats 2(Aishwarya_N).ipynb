{
  "nbformat": 4,
  "nbformat_minor": 0,
  "metadata": {
    "colab": {
      "provenance": []
    },
    "kernelspec": {
      "name": "python3",
      "display_name": "Python 3"
    },
    "language_info": {
      "name": "python"
    }
  },
  "cells": [
    {
      "cell_type": "code",
      "source": [
        "long_string_multiline=\"\"\"multiline\"\"\"\n",
        "print(long_string_multiline)"
      ],
      "metadata": {
        "colab": {
          "base_uri": "https://localhost:8080/"
        },
        "id": "-cSR1NNVjtUs",
        "outputId": "c0068590-02c2-483a-a3f1-858d52b6e828"
      },
      "execution_count": 84,
      "outputs": [
        {
          "output_type": "stream",
          "name": "stdout",
          "text": [
            "multiline\n"
          ]
        }
      ]
    },
    {
      "cell_type": "markdown",
      "source": [
        "Estimation And Confidence Intervals"
      ],
      "metadata": {
        "id": "JNsBqLvPimWL"
      }
    },
    {
      "cell_type": "markdown",
      "source": [
        "## a. Build 99% Confidence Interval Using Sample Standard Deviation"
      ],
      "metadata": {
        "id": "3dFHkA95imSq"
      }
    },
    {
      "cell_type": "code",
      "source": [
        "!pip install numpy"
      ],
      "metadata": {
        "colab": {
          "base_uri": "https://localhost:8080/"
        },
        "id": "MAB1PMUqi-O9",
        "outputId": "2a9342af-e5e5-421c-e5de-db44a7fcb2cb"
      },
      "execution_count": 85,
      "outputs": [
        {
          "output_type": "stream",
          "name": "stdout",
          "text": [
            "Requirement already satisfied: numpy in /usr/local/lib/python3.10/dist-packages (1.26.4)\n",
            "Traceback (most recent call last):\n",
            "  File \"/usr/local/lib/python3.10/dist-packages/pip/_vendor/pkg_resources/__init__.py\", line 3070, in _dep_map\n",
            "    return self.__dep_map\n",
            "  File \"/usr/local/lib/python3.10/dist-packages/pip/_vendor/pkg_resources/__init__.py\", line 2863, in __getattr__\n",
            "    raise AttributeError(attr)\n",
            "AttributeError: _DistInfoDistribution__dep_map\n",
            "\n",
            "During handling of the above exception, another exception occurred:\n",
            "\n",
            "Traceback (most recent call last):\n",
            "  File \"/usr/local/lib/python3.10/dist-packages/pip/_internal/cli/base_command.py\", line 179, in exc_logging_wrapper\n",
            "    status = run_func(*args)\n",
            "  File \"/usr/local/lib/python3.10/dist-packages/pip/_internal/cli/req_command.py\", line 67, in wrapper\n",
            "    return func(self, options, args)\n",
            "  File \"/usr/local/lib/python3.10/dist-packages/pip/_internal/commands/install.py\", line 447, in run\n",
            "    conflicts = self._determine_conflicts(to_install)\n",
            "  File \"/usr/local/lib/python3.10/dist-packages/pip/_internal/commands/install.py\", line 578, in _determine_conflicts\n",
            "    return check_install_conflicts(to_install)\n",
            "  File \"/usr/local/lib/python3.10/dist-packages/pip/_internal/operations/check.py\", line 101, in check_install_conflicts\n",
            "    package_set, _ = create_package_set_from_installed()\n",
            "  File \"/usr/local/lib/python3.10/dist-packages/pip/_internal/operations/check.py\", line 42, in create_package_set_from_installed\n",
            "    dependencies = list(dist.iter_dependencies())\n",
            "  File \"/usr/local/lib/python3.10/dist-packages/pip/_internal/metadata/pkg_resources.py\", line 247, in iter_dependencies\n",
            "    return self._dist.requires(extras)\n",
            "  File \"/usr/local/lib/python3.10/dist-packages/pip/_vendor/pkg_resources/__init__.py\", line 2786, in requires\n",
            "    dm = self._dep_map\n",
            "  File \"/usr/local/lib/python3.10/dist-packages/pip/_vendor/pkg_resources/__init__.py\", line 3072, in _dep_map\n",
            "    self.__dep_map = self._compute_dependencies()\n",
            "  File \"/usr/local/lib/python3.10/dist-packages/pip/_vendor/pkg_resources/__init__.py\", line 3094, in _compute_dependencies\n",
            "    dm[s_extra] = [r for r in reqs_for_extra(extra) if r not in common]\n",
            "  File \"/usr/local/lib/python3.10/dist-packages/pip/_vendor/pkg_resources/__init__.py\", line 3094, in <listcomp>\n",
            "    dm[s_extra] = [r for r in reqs_for_extra(extra) if r not in common]\n",
            "  File \"/usr/local/lib/python3.10/dist-packages/pip/_vendor/pkg_resources/__init__.py\", line 3086, in reqs_for_extra\n",
            "    if not req.marker or req.marker.evaluate({'extra': extra}):\n",
            "  File \"/usr/local/lib/python3.10/dist-packages/pip/_vendor/packaging/markers.py\", line 310, in evaluate\n",
            "    current_environment = cast(\"dict[str, str]\", default_environment())\n",
            "  File \"/usr/local/lib/python3.10/dist-packages/pip/_vendor/packaging/markers.py\", line 252, in default_environment\n",
            "    \"platform_version\": platform.version(),\n",
            "  File \"/usr/lib/python3.10/platform.py\", line 931, in version\n",
            "    def version():\n",
            "KeyboardInterrupt\n",
            "\n",
            "During handling of the above exception, another exception occurred:\n",
            "\n",
            "Traceback (most recent call last):\n",
            "  File \"/usr/local/bin/pip3\", line 8, in <module>\n",
            "    sys.exit(main())\n",
            "  File \"/usr/local/lib/python3.10/dist-packages/pip/_internal/cli/main.py\", line 80, in main\n",
            "    return command.main(cmd_args)\n",
            "  File \"/usr/local/lib/python3.10/dist-packages/pip/_internal/cli/base_command.py\", line 100, in main\n",
            "    return self._main(args)\n",
            "  File \"/usr/local/lib/python3.10/dist-packages/pip/_internal/cli/base_command.py\", line 232, in _main\n",
            "    return run(options, args)\n",
            "  File \"/usr/local/lib/python3.10/dist-packages/pip/_internal/cli/base_command.py\", line 215, in exc_logging_wrapper\n",
            "    logger.critical(\"Operation cancelled by user\")\n",
            "  File \"/usr/lib/python3.10/logging/__init__.py\", line 1514, in critical\n",
            "    def critical(self, msg, *args, **kwargs):\n",
            "KeyboardInterrupt\n",
            "^C\n"
          ]
        }
      ]
    },
    {
      "cell_type": "code",
      "source": [
        "!pip install scipy"
      ],
      "metadata": {
        "colab": {
          "base_uri": "https://localhost:8080/"
        },
        "id": "jBXNQbQjjAlG",
        "outputId": "dbb9481b-080c-422d-9850-1aa9ab2a4f5f"
      },
      "execution_count": null,
      "outputs": [
        {
          "output_type": "stream",
          "name": "stdout",
          "text": [
            "Requirement already satisfied: scipy in /usr/local/lib/python3.10/dist-packages (1.13.1)\n",
            "Requirement already satisfied: numpy<2.3,>=1.22.4 in /usr/local/lib/python3.10/dist-packages (from scipy) (1.26.4)\n"
          ]
        }
      ]
    },
    {
      "cell_type": "code",
      "source": [
        "!pip install pandas"
      ],
      "metadata": {
        "colab": {
          "base_uri": "https://localhost:8080/"
        },
        "id": "HAxn5aDGjGTj",
        "outputId": "a0fdcb47-964f-441b-a4b8-e2f1cc01830f"
      },
      "execution_count": null,
      "outputs": [
        {
          "output_type": "stream",
          "name": "stdout",
          "text": [
            "Requirement already satisfied: pandas in /usr/local/lib/python3.10/dist-packages (2.1.4)\n",
            "Requirement already satisfied: numpy<2,>=1.22.4 in /usr/local/lib/python3.10/dist-packages (from pandas) (1.26.4)\n",
            "Requirement already satisfied: python-dateutil>=2.8.2 in /usr/local/lib/python3.10/dist-packages (from pandas) (2.8.2)\n",
            "Requirement already satisfied: pytz>=2020.1 in /usr/local/lib/python3.10/dist-packages (from pandas) (2024.1)\n",
            "Requirement already satisfied: tzdata>=2022.1 in /usr/local/lib/python3.10/dist-packages (from pandas) (2024.1)\n",
            "Requirement already satisfied: six>=1.5 in /usr/local/lib/python3.10/dist-packages (from python-dateutil>=2.8.2->pandas) (1.16.0)\n"
          ]
        }
      ]
    },
    {
      "cell_type": "code",
      "execution_count": null,
      "metadata": {
        "id": "bS4o7sIUgNBI"
      },
      "outputs": [],
      "source": [
        "import numpy as np\n",
        "import pandas as pd\n",
        "import scipy.stats as stats\n",
        "import math\n",
        "import random"
      ]
    },
    {
      "cell_type": "code",
      "source": [
        "ph =(1.13, 1.55, 1.43, 0.92, 1.25, 1.36, 1.32, 0.85, 1.07, 1.48, 1.20, 1.33, 1.18, 1.22, 1.29)\n",
        "n=15"
      ],
      "metadata": {
        "id": "rsLix82Fj_1_"
      },
      "execution_count": null,
      "outputs": []
    },
    {
      "cell_type": "markdown",
      "source": [
        "A total of 15 print-heads were randomly selected and tested until failure. The durability of each print-head (in millions of characters) was recorded"
      ],
      "metadata": {
        "id": "HEQObq72my1M"
      }
    },
    {
      "cell_type": "code",
      "source": [
        "ph1 = pd.DataFrame(ph)\n",
        "print(ph1)"
      ],
      "metadata": {
        "colab": {
          "base_uri": "https://localhost:8080/"
        },
        "id": "SmXJaGB6ilJZ",
        "outputId": "a55df25a-9ae1-4c5f-dd7b-920f217780c6"
      },
      "execution_count": null,
      "outputs": [
        {
          "output_type": "stream",
          "name": "stdout",
          "text": [
            "       0\n",
            "0   1.13\n",
            "1   1.55\n",
            "2   1.43\n",
            "3   0.92\n",
            "4   1.25\n",
            "5   1.36\n",
            "6   1.32\n",
            "7   0.85\n",
            "8   1.07\n",
            "9   1.48\n",
            "10  1.20\n",
            "11  1.33\n",
            "12  1.18\n",
            "13  1.22\n",
            "14  1.29\n"
          ]
        }
      ]
    },
    {
      "cell_type": "markdown",
      "source": [
        "1) finding mean of the print-head"
      ],
      "metadata": {
        "id": "TTsouQZjnF6x"
      }
    },
    {
      "cell_type": "code",
      "source": [
        "mu=ph1.mean()\n",
        "print(mu)"
      ],
      "metadata": {
        "colab": {
          "base_uri": "https://localhost:8080/"
        },
        "id": "RojxRTfLmRbE",
        "outputId": "25ec7487-84d6-4d4d-bb7e-f97cc1e825aa"
      },
      "execution_count": null,
      "outputs": [
        {
          "output_type": "stream",
          "name": "stdout",
          "text": [
            "0    1.238667\n",
            "dtype: float64\n"
          ]
        }
      ]
    },
    {
      "cell_type": "markdown",
      "source": [
        "2) finding standard deviation of print head"
      ],
      "metadata": {
        "id": "9Bl8azXuny4Z"
      }
    },
    {
      "cell_type": "code",
      "source": [
        "samp_std=np.std(ph1)\n",
        "print(samp_std)"
      ],
      "metadata": {
        "colab": {
          "base_uri": "https://localhost:8080/"
        },
        "id": "-5Zf_kQPmcXm",
        "outputId": "f53a43c5-235b-4aa6-dcd5-03f431524dcc"
      },
      "execution_count": null,
      "outputs": [
        {
          "output_type": "stream",
          "name": "stdout",
          "text": [
            "0    0.186614\n",
            "dtype: float64\n"
          ]
        }
      ]
    },
    {
      "cell_type": "markdown",
      "source": [
        "we have 15 samples (if we have <30 data samples then we do t-test) for that\n",
        "\n",
        "1. mean of the sample data is  1.238667\n",
        "\n",
        "2. the sample std is 0.186614\n",
        "\n",
        "\n",
        "3. 99% is confidence_interval and significance value is 0.01(one tail),\n",
        "\n",
        "4. digree of freedom is 14(15-1),\n",
        "\n",
        "decission boundry from t-table is 2.624\n",
        "\n",
        "![image.png](data:image/png;base64,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)\n",
        "<-"
      ],
      "metadata": {
        "id": "lqmIbPApruOq"
      }
    },
    {
      "cell_type": "code",
      "source": [
        "t_value =2.624"
      ],
      "metadata": {
        "id": "H0lqo5j9wgt3"
      },
      "execution_count": null,
      "outputs": []
    },
    {
      "cell_type": "code",
      "source": [
        "margin_of_error_sample = t_value * (samp_std / np.sqrt(n))\n",
        "print(margin_of_error_sample)"
      ],
      "metadata": {
        "colab": {
          "base_uri": "https://localhost:8080/"
        },
        "id": "r21NkCT5pO1b",
        "outputId": "d78af363-06e2-4a3e-da98-92937359df8a"
      },
      "execution_count": null,
      "outputs": [
        {
          "output_type": "stream",
          "name": "stdout",
          "text": [
            "0    0.126434\n",
            "dtype: float64\n"
          ]
        }
      ]
    },
    {
      "cell_type": "code",
      "source": [
        "ci_lower_a = mu - margin_of_error_sample\n",
        "ci_upper_a = mu + margin_of_error_sample\n",
        "print(\"loewr confidence intervle\",ci_lower_a)\n",
        "print(\"higher confidence intervle\",ci_upper_a)"
      ],
      "metadata": {
        "colab": {
          "base_uri": "https://localhost:8080/"
        },
        "id": "GHiwqSvz8A08",
        "outputId": "08beeaca-704e-4d30-d1df-09362ebd994e"
      },
      "execution_count": null,
      "outputs": [
        {
          "output_type": "stream",
          "name": "stdout",
          "text": [
            "loewr confidence intervle 0    1.112233\n",
            "dtype: float64\n",
            "higher confidence intervle 0    1.3651\n",
            "dtype: float64\n"
          ]
        }
      ]
    },
    {
      "cell_type": "markdown",
      "source": [
        "## b. Build 99% Confidence Interval Using Known Population Standard Deviation"
      ],
      "metadata": {
        "id": "vMuXOjilAzX2"
      }
    },
    {
      "cell_type": "code",
      "source": [
        "data = [1.13, 1.55, 1.43, 0.92, 1.25, 1.36, 1.32, 0.85, 1.07, 1.48, 1.20, 1.33, 1.18, 1.22, 1.29]\n",
        "data=pd.DataFrame(data)\n",
        "data.mean(),data.std()"
      ],
      "metadata": {
        "colab": {
          "base_uri": "https://localhost:8080/"
        },
        "id": "4zG6L9ps8z5z",
        "outputId": "b6665857-9f9b-458d-9645-c21641bbeed7"
      },
      "execution_count": 86,
      "outputs": [
        {
          "output_type": "execute_result",
          "data": {
            "text/plain": [
              "(0    1.238667\n",
              " dtype: float64,\n",
              " 0    0.193164\n",
              " dtype: float64)"
            ]
          },
          "metadata": {},
          "execution_count": 86
        }
      ]
    },
    {
      "cell_type": "code",
      "source": [
        "sample_mean = np.mean(data)\n",
        "n = 15\n",
        "population_std = 0.2"
      ],
      "metadata": {
        "id": "S1V6X8-gBumJ"
      },
      "execution_count": 87,
      "outputs": []
    },
    {
      "cell_type": "code",
      "source": [
        "z_value = stats.norm.ppf(1 - 0.005)\n",
        "margin_of_error_known = z_value * (population_std / np.sqrt(n))"
      ],
      "metadata": {
        "id": "ms7BVB9eCYjg"
      },
      "execution_count": 88,
      "outputs": []
    },
    {
      "cell_type": "code",
      "source": [
        "ci_lower_b = sample_mean - margin_of_error_known\n",
        "ci_upper_b = sample_mean + margin_of_error_known"
      ],
      "metadata": {
        "id": "awGfKbIHDynp"
      },
      "execution_count": 89,
      "outputs": []
    },
    {
      "cell_type": "code",
      "source": [
        "print(\"Sample Mean:\", sample_mean)\n",
        "print(\"Population Standard Deviation:\", population_std)\n",
        "print(\"z-value for 99% CI:\", z_value)\n",
        "print(\"99% CI using Known Population Standard Deviation: [{:.3f}, {:.3f}]\".format(ci_lower_b, ci_upper_b))"
      ],
      "metadata": {
        "colab": {
          "base_uri": "https://localhost:8080/"
        },
        "id": "msl1HCexEHsX",
        "outputId": "95d60b8e-c234-436a-adc9-1e471f30875e"
      },
      "execution_count": 90,
      "outputs": [
        {
          "output_type": "stream",
          "name": "stdout",
          "text": [
            "Sample Mean: 1.2386666666666666\n",
            "Population Standard Deviation: 0.2\n",
            "z-value for 99% CI: 2.5758293035489004\n",
            "99% CI using Known Population Standard Deviation: [1.106, 1.372]\n"
          ]
        }
      ]
    },
    {
      "cell_type": "code",
      "source": [
        "kp=np.random.normal(1.2386,0.2,15)\n",
        "kp1=pd.DataFrame(kp,columns=['kp'])\n",
        "print(kp1)\n",
        "mean=kp1['kp'].mean()\n",
        "std=0.2\n",
        "stderr=std/math.sqrt(len(kp1['kp']))\n",
        "ci_99=st.norm.interval(0.99,mean,stderr)\n",
        "print('99% confidence interval:',ci_99)"
      ],
      "metadata": {
        "colab": {
          "base_uri": "https://localhost:8080/",
          "height": 488
        },
        "id": "N1mgNqs8EMY6",
        "outputId": "3609a362-35ae-4624-9221-76e886f26c61"
      },
      "execution_count": 92,
      "outputs": [
        {
          "output_type": "stream",
          "name": "stdout",
          "text": [
            "          kp\n",
            "0   1.230309\n",
            "1   1.373009\n",
            "2   1.222386\n",
            "3   1.341644\n",
            "4   0.894780\n",
            "5   1.742327\n",
            "6   1.418532\n",
            "7   1.372305\n",
            "8   1.247162\n",
            "9   1.319230\n",
            "10  1.218353\n",
            "11  1.295994\n",
            "12  1.246825\n",
            "13  0.686619\n",
            "14  1.200641\n"
          ]
        },
        {
          "output_type": "error",
          "ename": "TypeError",
          "evalue": "'int' object is not callable",
          "traceback": [
            "\u001b[0;31m---------------------------------------------------------------------------\u001b[0m",
            "\u001b[0;31mTypeError\u001b[0m                                 Traceback (most recent call last)",
            "\u001b[0;32m<ipython-input-92-4ba947046057>\u001b[0m in \u001b[0;36m<cell line: 6>\u001b[0;34m()\u001b[0m\n\u001b[1;32m      4\u001b[0m \u001b[0mmean\u001b[0m\u001b[0;34m=\u001b[0m\u001b[0mkp1\u001b[0m\u001b[0;34m[\u001b[0m\u001b[0;34m'kp'\u001b[0m\u001b[0;34m]\u001b[0m\u001b[0;34m.\u001b[0m\u001b[0mmean\u001b[0m\u001b[0;34m(\u001b[0m\u001b[0;34m)\u001b[0m\u001b[0;34m\u001b[0m\u001b[0;34m\u001b[0m\u001b[0m\n\u001b[1;32m      5\u001b[0m \u001b[0mstd\u001b[0m\u001b[0;34m=\u001b[0m\u001b[0;36m0.2\u001b[0m\u001b[0;34m\u001b[0m\u001b[0;34m\u001b[0m\u001b[0m\n\u001b[0;32m----> 6\u001b[0;31m \u001b[0mstderr\u001b[0m\u001b[0;34m=\u001b[0m\u001b[0mstd\u001b[0m\u001b[0;34m/\u001b[0m\u001b[0mmath\u001b[0m\u001b[0;34m.\u001b[0m\u001b[0msqrt\u001b[0m\u001b[0;34m(\u001b[0m\u001b[0mlen\u001b[0m\u001b[0;34m(\u001b[0m\u001b[0mkp1\u001b[0m\u001b[0;34m[\u001b[0m\u001b[0;34m'kp'\u001b[0m\u001b[0;34m]\u001b[0m\u001b[0;34m)\u001b[0m\u001b[0;34m)\u001b[0m\u001b[0;34m\u001b[0m\u001b[0;34m\u001b[0m\u001b[0m\n\u001b[0m\u001b[1;32m      7\u001b[0m \u001b[0mci_99\u001b[0m\u001b[0;34m=\u001b[0m\u001b[0mst\u001b[0m\u001b[0;34m.\u001b[0m\u001b[0mnorm\u001b[0m\u001b[0;34m.\u001b[0m\u001b[0minterval\u001b[0m\u001b[0;34m(\u001b[0m\u001b[0;36m0.99\u001b[0m\u001b[0;34m,\u001b[0m\u001b[0mmean\u001b[0m\u001b[0;34m,\u001b[0m\u001b[0mstderr\u001b[0m\u001b[0;34m)\u001b[0m\u001b[0;34m\u001b[0m\u001b[0;34m\u001b[0m\u001b[0m\n\u001b[1;32m      8\u001b[0m \u001b[0mprint\u001b[0m\u001b[0;34m(\u001b[0m\u001b[0;34m'99% confidence interval:'\u001b[0m\u001b[0;34m,\u001b[0m\u001b[0mci_99\u001b[0m\u001b[0;34m)\u001b[0m\u001b[0;34m\u001b[0m\u001b[0;34m\u001b[0m\u001b[0m\n",
            "\u001b[0;31mTypeError\u001b[0m: 'int' object is not callable"
          ]
        }
      ]
    }
  ]
}