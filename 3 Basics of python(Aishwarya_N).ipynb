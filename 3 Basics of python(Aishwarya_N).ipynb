{
 "cells": [
  {
   "cell_type": "code",
   "execution_count": 19,
   "id": "cbb3df52-c2f0-4d9d-b610-4da49b12fdb0",
   "metadata": {},
   "outputs": [
    {
     "name": "stdout",
     "output_type": "stream",
     "text": [
      "long_string_multiline\n"
     ]
    }
   ],
   "source": [
    "long_string_multiline=\"\"\"Multiline\"\"\"\n",
    "print(\"long_string_multiline\")"
   ]
  },
  {
   "cell_type": "code",
   "execution_count": null,
   "id": "38bb7b02-0590-4431-ba9c-ede0ed0ce9dc",
   "metadata": {},
   "outputs": [],
   "source": [
    "# PYTHON PROGRAMMING ASSIGNMENT"
   ]
  },
  {
   "cell_type": "code",
   "execution_count": null,
   "id": "2e3f069f-846f-40c5-bb46-cdf72d284b88",
   "metadata": {},
   "outputs": [],
   "source": [
    "## Exercise 1: Prime Numbers\n",
    "\n",
    "##### Write a Python program that checks whether a given number is prime or not. \n",
    "##### A prime number is a natural number greater than 1 that has no positive divisors other than 1 and itself."
   ]
  },
  {
   "cell_type": "code",
   "execution_count": 15,
   "id": "23669bf3-223f-4f4f-99a2-350dc6c2beda",
   "metadata": {},
   "outputs": [
    {
     "name": "stdin",
     "output_type": "stream",
     "text": [
      "enter the input 11\n"
     ]
    },
    {
     "name": "stdout",
     "output_type": "stream",
     "text": [
      "primr\n"
     ]
    }
   ],
   "source": [
    "def is_prime(n):\n",
    "    if n <= 1:\n",
    "        return False\n",
    "    for i in range(2, int(n//2)+1):#we can also use i in range(2, int(n**0.5)+1)\n",
    "        if n%i==0:\n",
    "            return False\n",
    "    return True\n",
    "num = int(input(\"enter the input\"))\n",
    "if is_prime(num):\n",
    "    print(\"primr\")\n",
    "else:\n",
    "    print(\"not prime\")"
   ]
  },
  {
   "cell_type": "code",
   "execution_count": null,
   "id": "e19edb0e-9748-47b4-a356-3b5e3acc2a5c",
   "metadata": {},
   "outputs": [],
   "source": [
    "## Exercise 2: Product of Random Numbers\n",
    "\n",
    "##### Develop a Python program that generates two random numbers and asks the user to enter the product of these numbers. \n",
    "##The program should then check if the user's answer is correct and display an appropriate message."
   ]
  },
  {
   "cell_type": "code",
   "execution_count": 21,
   "id": "bb94de87-aaa1-43d5-9a7c-9ed4ec8de287",
   "metadata": {},
   "outputs": [
    {
     "name": "stdin",
     "output_type": "stream",
     "text": [
      "enter the product of 4941 and 2416 7\n"
     ]
    },
    {
     "name": "stdout",
     "output_type": "stream",
     "text": [
      "7 is wrong answer ,currect answer is 11937456\n"
     ]
    }
   ],
   "source": [
    "import random\n",
    "n1=random.randint(1,10000)\n",
    "n2=random.randint(1,10000)\n",
    "product_of_rn = n1*n2\n",
    "user_product = int(input(f\"enter the product of {n1} and {n2}\"))\n",
    "if product_of_rn == user_product:\n",
    "    print(\"corret answer\")\n",
    "else:\n",
    "    print(f\"{user_product} is wrong answer ,currect answer is {product_of_rn}\")"
   ]
  },
  {
   "cell_type": "code",
   "execution_count": null,
   "id": "8ea1a75c-44b1-406a-be6c-bba85d7f48a8",
   "metadata": {},
   "outputs": [],
   "source": [
    "## Exercise 3: Squares of Even/Odd Numbers\n",
    "\n",
    "##### Create a Python script that prints the squares of all even or odd numbers within the range of 100 to 200. \n",
    "##Choose either even or odd numbers and document your choice in the code."
   ]
  },
  {
   "cell_type": "code",
   "execution_count": 22,
   "id": "701eed99-c6ca-4b3e-b709-7ac04c310013",
   "metadata": {},
   "outputs": [
    {
     "name": "stdout",
     "output_type": "stream",
     "text": [
      "Squares of even numbers in the range 100 to 200 : \n",
      "100^2 = 10000\n",
      "102^2 = 10404\n",
      "104^2 = 10816\n",
      "106^2 = 11236\n",
      "108^2 = 11664\n",
      "110^2 = 12100\n",
      "112^2 = 12544\n",
      "114^2 = 12996\n",
      "116^2 = 13456\n",
      "118^2 = 13924\n",
      "120^2 = 14400\n",
      "122^2 = 14884\n",
      "124^2 = 15376\n",
      "126^2 = 15876\n",
      "128^2 = 16384\n",
      "130^2 = 16900\n",
      "132^2 = 17424\n",
      "134^2 = 17956\n",
      "136^2 = 18496\n",
      "138^2 = 19044\n",
      "140^2 = 19600\n",
      "142^2 = 20164\n",
      "144^2 = 20736\n",
      "146^2 = 21316\n",
      "148^2 = 21904\n",
      "150^2 = 22500\n",
      "152^2 = 23104\n",
      "154^2 = 23716\n",
      "156^2 = 24336\n",
      "158^2 = 24964\n",
      "160^2 = 25600\n",
      "162^2 = 26244\n",
      "164^2 = 26896\n",
      "166^2 = 27556\n",
      "168^2 = 28224\n",
      "170^2 = 28900\n",
      "172^2 = 29584\n",
      "174^2 = 30276\n",
      "176^2 = 30976\n",
      "178^2 = 31684\n",
      "180^2 = 32400\n",
      "182^2 = 33124\n",
      "184^2 = 33856\n",
      "186^2 = 34596\n",
      "188^2 = 35344\n",
      "190^2 = 36100\n",
      "192^2 = 36864\n",
      "194^2 = 37636\n",
      "196^2 = 38416\n",
      "198^2 = 39204\n"
     ]
    }
   ],
   "source": [
    "def print_even_squares():\n",
    "    print(\"Squares of even numbers in the range 100 to 200 : \")\n",
    "    for num in range(100,200):\n",
    "        if num%2==0:\n",
    "            square = num**2\n",
    "            print(f\"{num}^2 = {square}\")\n",
    "\n",
    "print_even_squares()"
   ]
  },
  {
   "cell_type": "code",
   "execution_count": 23,
   "id": "7e6d4077-05d6-4b7e-9468-31a5d3d66717",
   "metadata": {},
   "outputs": [
    {
     "name": "stdout",
     "output_type": "stream",
     "text": [
      "Squares of odd numbers in the range 100 to 200 : \n",
      "101^2 = 10201\n",
      "103^2 = 10609\n",
      "105^2 = 11025\n",
      "107^2 = 11449\n",
      "109^2 = 11881\n",
      "111^2 = 12321\n",
      "113^2 = 12769\n",
      "115^2 = 13225\n",
      "117^2 = 13689\n",
      "119^2 = 14161\n",
      "121^2 = 14641\n",
      "123^2 = 15129\n",
      "125^2 = 15625\n",
      "127^2 = 16129\n",
      "129^2 = 16641\n",
      "131^2 = 17161\n",
      "133^2 = 17689\n",
      "135^2 = 18225\n",
      "137^2 = 18769\n",
      "139^2 = 19321\n",
      "141^2 = 19881\n",
      "143^2 = 20449\n",
      "145^2 = 21025\n",
      "147^2 = 21609\n",
      "149^2 = 22201\n",
      "151^2 = 22801\n",
      "153^2 = 23409\n",
      "155^2 = 24025\n",
      "157^2 = 24649\n",
      "159^2 = 25281\n",
      "161^2 = 25921\n",
      "163^2 = 26569\n",
      "165^2 = 27225\n",
      "167^2 = 27889\n",
      "169^2 = 28561\n",
      "171^2 = 29241\n",
      "173^2 = 29929\n",
      "175^2 = 30625\n",
      "177^2 = 31329\n",
      "179^2 = 32041\n",
      "181^2 = 32761\n",
      "183^2 = 33489\n",
      "185^2 = 34225\n",
      "187^2 = 34969\n",
      "189^2 = 35721\n",
      "191^2 = 36481\n",
      "193^2 = 37249\n",
      "195^2 = 38025\n",
      "197^2 = 38809\n",
      "199^2 = 39601\n"
     ]
    }
   ],
   "source": [
    "def print_odd_squares():\n",
    "    print(\"Squares of odd numbers in the range 100 to 200 : \")\n",
    "    for num in range(100,200):\n",
    "        if num%2!=0:\n",
    "            square = num**2\n",
    "            print(f\"{num}^2 = {square}\")\n",
    "\n",
    "print_odd_squares()"
   ]
  },
  {
   "cell_type": "code",
   "execution_count": null,
   "id": "42f37064-9204-4140-9365-7f3cdcdf1ec9",
   "metadata": {},
   "outputs": [],
   "source": [
    "## Exercise 4: Word counter\n",
    "\n",
    "##### write a program to count the number of words in a given text."
   ]
  },
  {
   "cell_type": "code",
   "execution_count": 26,
   "id": "7595b22d-d296-4716-b570-042ec5424c1c",
   "metadata": {},
   "outputs": [
    {
     "name": "stdout",
     "output_type": "stream",
     "text": [
      "Word Counts:\n",
      "'data': 3\n",
      "'science': 1\n",
      "'is': 2\n",
      "'the': 2\n",
      "'study': 1\n",
      "'of': 3\n",
      "'to': 2\n",
      "'extract': 1\n",
      "'meaningful': 1\n",
      "'insights': 1\n",
      "'for': 1\n",
      "'business': 1\n",
      "'it': 1\n",
      "'a': 1\n",
      "'multidisciplinary': 1\n",
      "'approach': 1\n",
      "'that': 1\n",
      "'combines': 1\n",
      "'principles': 1\n",
      "'and': 2\n",
      "'practices': 1\n",
      "'from': 1\n",
      "'fields': 1\n",
      "'mathematics': 1\n",
      "'statistics': 1\n",
      "'artificial': 1\n",
      "'intelligence': 1\n",
      "'computer': 1\n",
      "'engineering': 1\n",
      "'analyze': 1\n",
      "'large': 1\n",
      "'amounts': 1\n"
     ]
    }
   ],
   "source": [
    "def word_counter(text):\n",
    "    words = text.split()\n",
    "    word_counts = {}\n",
    "\n",
    "    for word in words:\n",
    "         # Remove punctuation marks from the word\n",
    "        word = word.strip(\".,!?\")\n",
    "        # Convert the word to lowercase for case-insensitive counting\n",
    "        word = word.lower()\n",
    "        # Increment the count of the word in the dictionary\n",
    "        word_counts[word] = word_counts.get(word, 0) + 1\n",
    "\n",
    "    return word_counts\n",
    "\n",
    "input_text = \"Data science is the study of data to extract meaningful insights for business. It is a multidisciplinary approach that combines principles and practices from the fields of mathematics, statistics, artificial intelligence, and computer engineering to analyze large amounts of data.\"\n",
    "\n",
    "# Count words in the text\n",
    "word_counts = word_counter(input_text)\n",
    "\n",
    "# Print the word counts\n",
    "print(\"Word Counts:\")\n",
    "for word, count in word_counts.items():\n",
    "    print(f\"'{word}': {count}\")"
   ]
  },
  {
   "cell_type": "code",
   "execution_count": null,
   "id": "a999abd3-d492-40e9-999f-6d6cbefd0833",
   "metadata": {},
   "outputs": [],
   "source": [
    "## Exercise 5: Check for Palindrome\n",
    "\n",
    "##### Write a Python function called is_palindrome that takes a string as input and returns True if the string is a palindrome, and False otherwise.\n",
    "##A palindrome is a word, phrase, number, or other sequence of characters that reads the same forward and backward, ignoring spaces, punctuation, and capitalization."
   ]
  },
  {
   "cell_type": "code",
   "execution_count": 27,
   "id": "332d5711-db03-4781-b527-75580ebc7ba2",
   "metadata": {},
   "outputs": [
    {
     "name": "stdout",
     "output_type": "stream",
     "text": [
      "False\n"
     ]
    }
   ],
   "source": [
    "def is_palindrome(s):\n",
    "    s1= s[::-1]\n",
    "    if s1==s:\n",
    "        return True\n",
    "    else:\n",
    "        return False\n",
    "\n",
    "# Test the function\n",
    "test_string = \" Panama!\"\n",
    "print(is_palindrome(test_string))"
   ]
  },
  {
   "cell_type": "code",
   "execution_count": 28,
   "id": "8de06df4-174b-4fa8-8e8b-cdb3c3426d33",
   "metadata": {},
   "outputs": [
    {
     "name": "stdout",
     "output_type": "stream",
     "text": [
      "True\n"
     ]
    }
   ],
   "source": [
    "def is_palindrome(s):\n",
    "    s1= s[::-1]\n",
    "    if s1==s:\n",
    "        return True\n",
    "    else:\n",
    "        return False\n",
    "\n",
    "# Test the function\n",
    "test_string = \"mam\"\n",
    "print(is_palindrome(test_string))"
   ]
  },
  {
   "cell_type": "code",
   "execution_count": 32,
   "id": "8cbde072-20e7-49cf-ad8a-0495333f61ba",
   "metadata": {},
   "outputs": [
    {
     "name": "stdin",
     "output_type": "stream",
     "text": [
      "Enter the word : malylam\n"
     ]
    },
    {
     "name": "stdout",
     "output_type": "stream",
     "text": [
      "True\n"
     ]
    }
   ],
   "source": [
    "def is_palindrome(s):\n",
    "    s1= s[::-1]\n",
    "    if s1==s:\n",
    "        return True\n",
    "    else:\n",
    "        return False\n",
    "\n",
    "# Test the function\n",
    "test_string = str(input(\"Enter the word :\"))\n",
    "print(is_palindrome(test_string))"
   ]
  },
  {
   "cell_type": "code",
   "execution_count": null,
   "id": "6e3a31a5-a25e-4549-87fa-0f2768f77c8d",
   "metadata": {},
   "outputs": [],
   "source": []
  }
 ],
 "metadata": {
  "kernelspec": {
   "display_name": "Python 3 (ipykernel)",
   "language": "python",
   "name": "python3"
  },
  "language_info": {
   "codemirror_mode": {
    "name": "ipython",
    "version": 3
   },
   "file_extension": ".py",
   "mimetype": "text/x-python",
   "name": "python",
   "nbconvert_exporter": "python",
   "pygments_lexer": "ipython3",
   "version": "3.11.7"
  }
 },
 "nbformat": 4,
 "nbformat_minor": 5
}
