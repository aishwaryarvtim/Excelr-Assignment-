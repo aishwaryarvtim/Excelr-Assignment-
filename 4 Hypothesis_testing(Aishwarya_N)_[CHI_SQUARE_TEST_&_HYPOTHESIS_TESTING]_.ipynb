{
  "nbformat": 4,
  "nbformat_minor": 0,
  "metadata": {
    "colab": {
      "provenance": []
    },
    "kernelspec": {
      "name": "python3",
      "display_name": "Python 3"
    },
    "language_info": {
      "name": "python"
    }
  },
  "cells": [
    {
      "cell_type": "code",
      "source": [
        "long_string_multiline = \"\"\" multiline\"\"\"\n",
        "print(long_string_multiline)"
      ],
      "metadata": {
        "colab": {
          "base_uri": "https://localhost:8080/"
        },
        "id": "KqIBmrSCnaFk",
        "outputId": "d33bd234-7911-4a2e-b5d5-4c4831e04f72"
      },
      "execution_count": 20,
      "outputs": [
        {
          "output_type": "stream",
          "name": "stdout",
          "text": [
            " multiline\n"
          ]
        }
      ]
    },
    {
      "cell_type": "markdown",
      "source": [
        "## **CHI-SQUARE TEST**\n"
      ],
      "metadata": {
        "id": "MiwsdbrZpW_O"
      }
    },
    {
      "cell_type": "markdown",
      "source": [
        "Association between Device Type and Customer Satisfaction\n",
        "\n",
        "Background:\n",
        "\n",
        "Mizzare Corporation has collected data on customer satisfaction levels for two types of smart home devices: Smart Thermostats and Smart Lights. They want to determine if there's a significant association between the type of device purchased and the customer's satisfaction level.\n",
        "\n",
        "Data Provided:\n",
        "The data is summarized in a contingency table showing the counts of customers in each satisfaction level for both types of devices:\n",
        "\n",
        "![image.png](data:image/png;base64,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)\n",
        "\n",
        "Objective:\n",
        "To use the Chi-Square test for independence to determine if there's a significant association between the type of smart home device purchased (Smart Thermostats vs. Smart Lights) and the customer satisfaction level.\n"
      ],
      "metadata": {
        "id": "8QB-hhVip9JJ"
      }
    },
    {
      "cell_type": "markdown",
      "source": [
        "1. State the Hypotheses:"
      ],
      "metadata": {
        "id": "cV_dieEL0Cvg"
      }
    },
    {
      "cell_type": "code",
      "source": [
        "# State the Hypotheses\n",
        "# H0: There is no association between device type and customer satisfaction.\n",
        "# H1: There is an association between device type and customer satisfaction."
      ],
      "metadata": {
        "id": "LQJcfcDKzco7"
      },
      "execution_count": null,
      "outputs": []
    },
    {
      "cell_type": "markdown",
      "source": [
        "2. Compute the Chi-Square Statistic:"
      ],
      "metadata": {
        "id": "9p6UC8s20HaP"
      }
    },
    {
      "cell_type": "code",
      "source": [
        "import numpy as np\n",
        "from scipy.stats import chi2_contingency, chi2\n",
        "data = np.array([\n",
        "    [50, 70],   # Very Satisfied\n",
        "    [80, 100],  # Satisfied\n",
        "    [60, 90],   # Neutral\n",
        "    [30, 50],   # Unsatisfied\n",
        "    [20, 50]    # Very Unsatisfied\n",
        "])\n",
        "\n",
        "# Perform the Chi-Square test\n",
        "chi2_stat, p_val, dof, expected = chi2_contingency(data)\n",
        "\n",
        "# Output results\n",
        "print(\"Chi-Square Statistic:\", chi2_stat)\n",
        "print(\"P-Value:\", p_val)\n",
        "print(\"Degrees of Freedom:\", dof)\n",
        "print(\"Expected Frequencies Table:\\n\", expected)\n"
      ],
      "metadata": {
        "colab": {
          "base_uri": "https://localhost:8080/"
        },
        "id": "OgyFxLWMzKMU",
        "outputId": "621857ee-03f6-4ca0-ac36-cad9d27c5ce0"
      },
      "execution_count": 40,
      "outputs": [
        {
          "output_type": "stream",
          "name": "stdout",
          "text": [
            "Chi-Square Statistic: 5.638227513227513\n",
            "P-Value: 0.22784371130697179\n",
            "Degrees of Freedom: 4\n",
            "Expected Frequencies Table:\n",
            " [[ 48.  72.]\n",
            " [ 72. 108.]\n",
            " [ 60.  90.]\n",
            " [ 32.  48.]\n",
            " [ 28.  42.]]\n"
          ]
        }
      ]
    },
    {
      "cell_type": "markdown",
      "source": [
        "3. Determine the Critical Value:\n",
        "\n",
        "Using the significance level (alpha) of 0.05 and the degrees of freedom (which is the number of categories minus 1)\n"
      ],
      "metadata": {
        "id": "Vdbpepzk0ugj"
      }
    },
    {
      "cell_type": "code",
      "source": [
        "alpha = 0.05\n",
        "critical_value = chi2.ppf(1 - alpha, dof)\n",
        "print(\"Critical Value at alpha=0.05:\", critical_value)\n"
      ],
      "metadata": {
        "colab": {
          "base_uri": "https://localhost:8080/"
        },
        "id": "NXYeNPgS0VpS",
        "outputId": "0de9f461-e0fc-4c2e-bb52-49fa5074ab43"
      },
      "execution_count": 41,
      "outputs": [
        {
          "output_type": "stream",
          "name": "stdout",
          "text": [
            "Critical Value at alpha=0.05: 9.487729036781154\n"
          ]
        }
      ]
    },
    {
      "cell_type": "markdown",
      "source": [
        "4. Make a Decision:\n",
        "\n",
        "Compare the Chi-Square statistic with the critical value to decide whether to reject the null hypothesis.\n",
        "\n",
        "Submission Guidelines:\n",
        "\n",
        "•\tProvide a detailed report of your analysis, including each step outlined in the assignment tasks in a python file.\n",
        "•\tInclude all calculations, the Chi-Square statistic, the critical value, and your conclusion.\n"
      ],
      "metadata": {
        "id": "UdVYJyOM2lO1"
      }
    },
    {
      "cell_type": "code",
      "source": [
        "if chi2_stat > critical_value:\n",
        "    decision = \"Reject the Null Hypothesis (H₀)\"\n",
        "else:\n",
        "    decision = \"Fail to Reject the Null Hypothesis (H₀)\"\n",
        "\n",
        "print(\"Decision:\", decision)\n",
        "\n",
        "if decision == \"Reject the Null Hypothesis (H₀)\":\n",
        "    conclusion = \"There is a significant association between the type of smart home device purchased and the customer satisfaction level.\"\n",
        "else:\n",
        "    conclusion = \"There is no significant association between the type of smart home device purchased and the customer satisfaction level.\"\n",
        "\n",
        "print(\"Conclusion:\", conclusion)"
      ],
      "metadata": {
        "colab": {
          "base_uri": "https://localhost:8080/"
        },
        "id": "yEYnZVaep6vp",
        "outputId": "1c831bd5-d840-4a16-e8a0-6a2693ddf0ed"
      },
      "execution_count": 43,
      "outputs": [
        {
          "output_type": "stream",
          "name": "stdout",
          "text": [
            "Decision: Fail to Reject the Null Hypothesis (H₀)\n",
            "Conclusion: There is no significant association between the type of smart home device purchased and the customer satisfaction level.\n"
          ]
        }
      ]
    },
    {
      "cell_type": "markdown",
      "source": [
        "## **HYPOTHESIS TESTING**"
      ],
      "metadata": {
        "id": "jRG3OhampuQY"
      }
    },
    {
      "cell_type": "markdown",
      "source": [
        "\n",
        "\n",
        "Background:\n",
        "\n",
        "Bombay hospitality Ltd. operates a franchise model for producing exotic Norwegian dinners throughout New England. The operating cost for a franchise in a week (W) is given by the equation W = $1,000 + $5X, where X represents the number of units produced in a week. Recent feedback from restaurant owners suggests that this cost model may no longer be accurate, as their observed weekly operating costs are higher.\n",
        "\n",
        "Objective:\n",
        "\n",
        "To investigate the restaurant owners' claim about the increase in weekly operating costs using hypothesis testing.\n",
        "Data Provided:\n",
        "•\tThe theoretical weekly operating cost model: W = $1,000 + $5X\n",
        "•\tSample of 25 restaurants with a mean weekly cost of Rs. 3,050\n",
        "•\tNumber of units produced in a week (X) follows a normal distribution with a mean (μ) of 600 units and a standard deviation (σ) of 25 units\n"
      ],
      "metadata": {
        "id": "m8d-AZFMbSol"
      }
    },
    {
      "cell_type": "markdown",
      "source": [
        "1. State the Hypotheses statement:"
      ],
      "metadata": {
        "id": "yi0OS9uVcusz"
      }
    },
    {
      "cell_type": "code",
      "source": [
        "# the hypotheses statements\n",
        "\n",
        "# null hypothesis (H₀): The weekly operating cost model is accurate.\n",
        "# the mean weekly cost is equal to the theoretical cost.\n",
        "# H₀: μ_W = 1,000 + 5 * μ_X = 4,000 Rs\n",
        "\n",
        "# alternative hypothesis (H₁): The weekly operating cost model is not accurate.\n",
        "# The mean weekly cost is greater than the theoretical cost.\n",
        "# H₁: μ_W > 4,000 Rs\n"
      ],
      "metadata": {
        "id": "gg5qXDHJc0gf"
      },
      "execution_count": 27,
      "outputs": []
    },
    {
      "cell_type": "markdown",
      "source": [
        "2. Calculate the Test Statistic:\n",
        "Use the following formula to calculate the test statistic (t):\n",
        "\n",
        "where:\n",
        "•\tˉxˉ = sample mean weekly cost (Rs. 3,050)\n",
        "\n",
        "•\tμ = theoretical mean weekly cost according to the cost model (W = $1,000 + $5X for X = 600 units)\n",
        "\n",
        "•\tσ = 5*25 units\n",
        "\n",
        "•\tn = sample size (25 restaurants)\n"
      ],
      "metadata": {
        "id": "yUIVRuwWhNJ8"
      }
    },
    {
      "cell_type": "code",
      "execution_count": 28,
      "metadata": {
        "id": "YPkTRDaiQiOn"
      },
      "outputs": [],
      "source": [
        "#import the libraries\n",
        "import math\n",
        "from scipy.stats import norm"
      ]
    },
    {
      "cell_type": "code",
      "source": [
        "x_bar = 3050  # sample mean weekly cost(Rs 3,050)\n",
        "mu = 4000     # theoretical mean weekly cost(Rs 4,000)\n",
        "sigma = 5*25  # standard deviation(σ = 5*25)\n",
        "n = 25        # sample size\n",
        "\n",
        "#test statistic(t)\n",
        "t_statistic = (x_bar - mu) / (sigma / math.sqrt(n))\n",
        "\n",
        "t_statistic\n",
        "print(f\"Test Statistic (t): {t_statistic}\")"
      ],
      "metadata": {
        "colab": {
          "base_uri": "https://localhost:8080/"
        },
        "id": "J0Pxw7k2hqD7",
        "outputId": "d4607189-adcf-4495-8255-a7a802c07eb7"
      },
      "execution_count": 29,
      "outputs": [
        {
          "output_type": "stream",
          "name": "stdout",
          "text": [
            "Test Statistic (t): -38.0\n"
          ]
        }
      ]
    },
    {
      "cell_type": "markdown",
      "source": [
        "3. Determine the Critical Value:\n",
        "\n",
        "Using the alpha level of 5% (α = 0.05), determine the critical value from the standard normal (Z) distribution table.\n"
      ],
      "metadata": {
        "id": "_sospHLwlFrD"
      }
    },
    {
      "cell_type": "code",
      "source": [
        "alpha = 0.05\n",
        "critical_value = norm.ppf(1 - alpha)\n",
        "print(f\"Critical Value (Zα):{critical_value}\")"
      ],
      "metadata": {
        "colab": {
          "base_uri": "https://localhost:8080/"
        },
        "id": "71_IuE2ehwc0",
        "outputId": "878bd03c-7690-4400-eeed-7f453b1d68ad"
      },
      "execution_count": 30,
      "outputs": [
        {
          "output_type": "stream",
          "name": "stdout",
          "text": [
            "Critical Value (Zα):1.6448536269514722\n"
          ]
        }
      ]
    },
    {
      "cell_type": "markdown",
      "source": [
        "4. Make a Decision:\n",
        "\n",
        "Compare the test statistic with the critical value to decide whether to reject the null hypothesis.\n"
      ],
      "metadata": {
        "id": "kWx_INOsmBe-"
      }
    },
    {
      "cell_type": "code",
      "source": [
        "if t_statistic > critical_value:\n",
        "    decision = \"Reject the Null Hypothesis (H₀)\"\n",
        "else:\n",
        "    decision = \"Fail to Reject the Null Hypothesis (H₀)\"\n",
        "\n",
        "print(\"Decision:\", decision)"
      ],
      "metadata": {
        "colab": {
          "base_uri": "https://localhost:8080/"
        },
        "id": "KYDcO2TYlyMY",
        "outputId": "0b0db3fa-d464-40eb-edc2-06c8eccf6d79"
      },
      "execution_count": 31,
      "outputs": [
        {
          "output_type": "stream",
          "name": "stdout",
          "text": [
            "Decision: Fail to Reject the Null Hypothesis (H₀)\n"
          ]
        }
      ]
    },
    {
      "cell_type": "markdown",
      "source": [
        "5. Conclusion:\n",
        "\n",
        "Based on the decision in step 4, conclude whether there is strong evidence to support the restaurant owners' claim that the weekly operating costs are higher than the model suggests.\n",
        "\n",
        "\n",
        "Submission Guidelines:\n",
        "\n",
        "•\tPrepare python file detailing each step of your hypothesis testing process.\n",
        "•\tInclude calculations for the test statistic and the critical value.\n",
        "•\tProvide a clear conclusion based on your analysis.\n"
      ],
      "metadata": {
        "id": "y_ZI1g76mQOY"
      }
    },
    {
      "cell_type": "code",
      "source": [
        "if decision == \"Reject the Null Hypothesis (H₀)\":\n",
        "    conclusion = \"There is strong evidence to support the restaurant owners' claim that the weekly operating costs are higher than the model suggests.\"\n",
        "else:\n",
        "    conclusion = \"There is not enough evidence to support the restaurant owners' claim that the weekly operating costs are higher than the model suggests.\"\n",
        "\n",
        "print(\"Conclusion:\", conclusion)"
      ],
      "metadata": {
        "colab": {
          "base_uri": "https://localhost:8080/"
        },
        "id": "DlO8-F1ImJ64",
        "outputId": "03a3b324-f523-4d54-f3f8-5394254a903e"
      },
      "execution_count": 32,
      "outputs": [
        {
          "output_type": "stream",
          "name": "stdout",
          "text": [
            "Conclusion: There is not enough evidence to support the restaurant owners' claim that the weekly operating costs are higher than the model suggests.\n"
          ]
        }
      ]
    }
  ]
}