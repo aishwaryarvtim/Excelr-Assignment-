{
  "nbformat": 4,
  "nbformat_minor": 0,
  "metadata": {
    "colab": {
      "provenance": []
    },
    "kernelspec": {
      "name": "python3",
      "display_name": "Python 3"
    },
    "language_info": {
      "name": "python"
    }
  },
  "cells": [
    {
      "cell_type": "markdown",
      "source": [
        "**TEXT CLASSIFICATION USING NAIVE BAYES AND SENTIMENT ANALYSIS ON BLOG POSTS**"
      ],
      "metadata": {
        "id": "iuFC_iYUeVbp"
      }
    },
    {
      "cell_type": "markdown",
      "source": [
        "## 1. Data Exploration and Preprocessing\n",
        "\n",
        "•\tLoad the \"blogs_categories.csv\" dataset and perform an exploratory data analysis to understand its structure and content.\n",
        "\n",
        "•\tPreprocess the data by cleaning the text (removing punctuation, converting to lowercase, etc.), tokenizing, and removing stopwords.\n",
        "\n",
        "•\tPerform feature extraction to convert text data into a format that can be used by the Naive Bayes model, using techniques such as TF-IDF.\n"
      ],
      "metadata": {
        "id": "aao0E1XgZWIB"
      }
    },
    {
      "cell_type": "code",
      "execution_count": 2,
      "metadata": {
        "id": "d-q4mEnBWv0c"
      },
      "outputs": [],
      "source": [
        "import pandas as pd"
      ]
    },
    {
      "cell_type": "code",
      "source": [
        "df= pd.read_csv('/content/blogs.csv')"
      ],
      "metadata": {
        "id": "oEz5sRAOW139"
      },
      "execution_count": 3,
      "outputs": []
    },
    {
      "cell_type": "code",
      "source": [
        "df.head()"
      ],
      "metadata": {
        "colab": {
          "base_uri": "https://localhost:8080/",
          "height": 206
        },
        "id": "aqimeUoUXOT7",
        "outputId": "469cc753-cdc0-493e-b108-82cbf9e0675a"
      },
      "execution_count": 4,
      "outputs": [
        {
          "output_type": "execute_result",
          "data": {
            "text/plain": [
              "                                                Data       Labels\n",
              "0  Path: cantaloupe.srv.cs.cmu.edu!magnesium.club...  alt.atheism\n",
              "1  Newsgroups: alt.atheism\\nPath: cantaloupe.srv....  alt.atheism\n",
              "2  Path: cantaloupe.srv.cs.cmu.edu!das-news.harva...  alt.atheism\n",
              "3  Path: cantaloupe.srv.cs.cmu.edu!magnesium.club...  alt.atheism\n",
              "4  Xref: cantaloupe.srv.cs.cmu.edu alt.atheism:53...  alt.atheism"
            ],
            "text/html": [
              "\n",
              "  <div id=\"df-2bb660cd-5682-43ce-8788-c8411cccee5b\" class=\"colab-df-container\">\n",
              "    <div>\n",
              "<style scoped>\n",
              "    .dataframe tbody tr th:only-of-type {\n",
              "        vertical-align: middle;\n",
              "    }\n",
              "\n",
              "    .dataframe tbody tr th {\n",
              "        vertical-align: top;\n",
              "    }\n",
              "\n",
              "    .dataframe thead th {\n",
              "        text-align: right;\n",
              "    }\n",
              "</style>\n",
              "<table border=\"1\" class=\"dataframe\">\n",
              "  <thead>\n",
              "    <tr style=\"text-align: right;\">\n",
              "      <th></th>\n",
              "      <th>Data</th>\n",
              "      <th>Labels</th>\n",
              "    </tr>\n",
              "  </thead>\n",
              "  <tbody>\n",
              "    <tr>\n",
              "      <th>0</th>\n",
              "      <td>Path: cantaloupe.srv.cs.cmu.edu!magnesium.club...</td>\n",
              "      <td>alt.atheism</td>\n",
              "    </tr>\n",
              "    <tr>\n",
              "      <th>1</th>\n",
              "      <td>Newsgroups: alt.atheism\\nPath: cantaloupe.srv....</td>\n",
              "      <td>alt.atheism</td>\n",
              "    </tr>\n",
              "    <tr>\n",
              "      <th>2</th>\n",
              "      <td>Path: cantaloupe.srv.cs.cmu.edu!das-news.harva...</td>\n",
              "      <td>alt.atheism</td>\n",
              "    </tr>\n",
              "    <tr>\n",
              "      <th>3</th>\n",
              "      <td>Path: cantaloupe.srv.cs.cmu.edu!magnesium.club...</td>\n",
              "      <td>alt.atheism</td>\n",
              "    </tr>\n",
              "    <tr>\n",
              "      <th>4</th>\n",
              "      <td>Xref: cantaloupe.srv.cs.cmu.edu alt.atheism:53...</td>\n",
              "      <td>alt.atheism</td>\n",
              "    </tr>\n",
              "  </tbody>\n",
              "</table>\n",
              "</div>\n",
              "    <div class=\"colab-df-buttons\">\n",
              "\n",
              "  <div class=\"colab-df-container\">\n",
              "    <button class=\"colab-df-convert\" onclick=\"convertToInteractive('df-2bb660cd-5682-43ce-8788-c8411cccee5b')\"\n",
              "            title=\"Convert this dataframe to an interactive table.\"\n",
              "            style=\"display:none;\">\n",
              "\n",
              "  <svg xmlns=\"http://www.w3.org/2000/svg\" height=\"24px\" viewBox=\"0 -960 960 960\">\n",
              "    <path d=\"M120-120v-720h720v720H120Zm60-500h600v-160H180v160Zm220 220h160v-160H400v160Zm0 220h160v-160H400v160ZM180-400h160v-160H180v160Zm440 0h160v-160H620v160ZM180-180h160v-160H180v160Zm440 0h160v-160H620v160Z\"/>\n",
              "  </svg>\n",
              "    </button>\n",
              "\n",
              "  <style>\n",
              "    .colab-df-container {\n",
              "      display:flex;\n",
              "      gap: 12px;\n",
              "    }\n",
              "\n",
              "    .colab-df-convert {\n",
              "      background-color: #E8F0FE;\n",
              "      border: none;\n",
              "      border-radius: 50%;\n",
              "      cursor: pointer;\n",
              "      display: none;\n",
              "      fill: #1967D2;\n",
              "      height: 32px;\n",
              "      padding: 0 0 0 0;\n",
              "      width: 32px;\n",
              "    }\n",
              "\n",
              "    .colab-df-convert:hover {\n",
              "      background-color: #E2EBFA;\n",
              "      box-shadow: 0px 1px 2px rgba(60, 64, 67, 0.3), 0px 1px 3px 1px rgba(60, 64, 67, 0.15);\n",
              "      fill: #174EA6;\n",
              "    }\n",
              "\n",
              "    .colab-df-buttons div {\n",
              "      margin-bottom: 4px;\n",
              "    }\n",
              "\n",
              "    [theme=dark] .colab-df-convert {\n",
              "      background-color: #3B4455;\n",
              "      fill: #D2E3FC;\n",
              "    }\n",
              "\n",
              "    [theme=dark] .colab-df-convert:hover {\n",
              "      background-color: #434B5C;\n",
              "      box-shadow: 0px 1px 3px 1px rgba(0, 0, 0, 0.15);\n",
              "      filter: drop-shadow(0px 1px 2px rgba(0, 0, 0, 0.3));\n",
              "      fill: #FFFFFF;\n",
              "    }\n",
              "  </style>\n",
              "\n",
              "    <script>\n",
              "      const buttonEl =\n",
              "        document.querySelector('#df-2bb660cd-5682-43ce-8788-c8411cccee5b button.colab-df-convert');\n",
              "      buttonEl.style.display =\n",
              "        google.colab.kernel.accessAllowed ? 'block' : 'none';\n",
              "\n",
              "      async function convertToInteractive(key) {\n",
              "        const element = document.querySelector('#df-2bb660cd-5682-43ce-8788-c8411cccee5b');\n",
              "        const dataTable =\n",
              "          await google.colab.kernel.invokeFunction('convertToInteractive',\n",
              "                                                    [key], {});\n",
              "        if (!dataTable) return;\n",
              "\n",
              "        const docLinkHtml = 'Like what you see? Visit the ' +\n",
              "          '<a target=\"_blank\" href=https://colab.research.google.com/notebooks/data_table.ipynb>data table notebook</a>'\n",
              "          + ' to learn more about interactive tables.';\n",
              "        element.innerHTML = '';\n",
              "        dataTable['output_type'] = 'display_data';\n",
              "        await google.colab.output.renderOutput(dataTable, element);\n",
              "        const docLink = document.createElement('div');\n",
              "        docLink.innerHTML = docLinkHtml;\n",
              "        element.appendChild(docLink);\n",
              "      }\n",
              "    </script>\n",
              "  </div>\n",
              "\n",
              "\n",
              "<div id=\"df-41299c82-b9d1-4e5e-9096-3e31b19f751a\">\n",
              "  <button class=\"colab-df-quickchart\" onclick=\"quickchart('df-41299c82-b9d1-4e5e-9096-3e31b19f751a')\"\n",
              "            title=\"Suggest charts\"\n",
              "            style=\"display:none;\">\n",
              "\n",
              "<svg xmlns=\"http://www.w3.org/2000/svg\" height=\"24px\"viewBox=\"0 0 24 24\"\n",
              "     width=\"24px\">\n",
              "    <g>\n",
              "        <path d=\"M19 3H5c-1.1 0-2 .9-2 2v14c0 1.1.9 2 2 2h14c1.1 0 2-.9 2-2V5c0-1.1-.9-2-2-2zM9 17H7v-7h2v7zm4 0h-2V7h2v10zm4 0h-2v-4h2v4z\"/>\n",
              "    </g>\n",
              "</svg>\n",
              "  </button>\n",
              "\n",
              "<style>\n",
              "  .colab-df-quickchart {\n",
              "      --bg-color: #E8F0FE;\n",
              "      --fill-color: #1967D2;\n",
              "      --hover-bg-color: #E2EBFA;\n",
              "      --hover-fill-color: #174EA6;\n",
              "      --disabled-fill-color: #AAA;\n",
              "      --disabled-bg-color: #DDD;\n",
              "  }\n",
              "\n",
              "  [theme=dark] .colab-df-quickchart {\n",
              "      --bg-color: #3B4455;\n",
              "      --fill-color: #D2E3FC;\n",
              "      --hover-bg-color: #434B5C;\n",
              "      --hover-fill-color: #FFFFFF;\n",
              "      --disabled-bg-color: #3B4455;\n",
              "      --disabled-fill-color: #666;\n",
              "  }\n",
              "\n",
              "  .colab-df-quickchart {\n",
              "    background-color: var(--bg-color);\n",
              "    border: none;\n",
              "    border-radius: 50%;\n",
              "    cursor: pointer;\n",
              "    display: none;\n",
              "    fill: var(--fill-color);\n",
              "    height: 32px;\n",
              "    padding: 0;\n",
              "    width: 32px;\n",
              "  }\n",
              "\n",
              "  .colab-df-quickchart:hover {\n",
              "    background-color: var(--hover-bg-color);\n",
              "    box-shadow: 0 1px 2px rgba(60, 64, 67, 0.3), 0 1px 3px 1px rgba(60, 64, 67, 0.15);\n",
              "    fill: var(--button-hover-fill-color);\n",
              "  }\n",
              "\n",
              "  .colab-df-quickchart-complete:disabled,\n",
              "  .colab-df-quickchart-complete:disabled:hover {\n",
              "    background-color: var(--disabled-bg-color);\n",
              "    fill: var(--disabled-fill-color);\n",
              "    box-shadow: none;\n",
              "  }\n",
              "\n",
              "  .colab-df-spinner {\n",
              "    border: 2px solid var(--fill-color);\n",
              "    border-color: transparent;\n",
              "    border-bottom-color: var(--fill-color);\n",
              "    animation:\n",
              "      spin 1s steps(1) infinite;\n",
              "  }\n",
              "\n",
              "  @keyframes spin {\n",
              "    0% {\n",
              "      border-color: transparent;\n",
              "      border-bottom-color: var(--fill-color);\n",
              "      border-left-color: var(--fill-color);\n",
              "    }\n",
              "    20% {\n",
              "      border-color: transparent;\n",
              "      border-left-color: var(--fill-color);\n",
              "      border-top-color: var(--fill-color);\n",
              "    }\n",
              "    30% {\n",
              "      border-color: transparent;\n",
              "      border-left-color: var(--fill-color);\n",
              "      border-top-color: var(--fill-color);\n",
              "      border-right-color: var(--fill-color);\n",
              "    }\n",
              "    40% {\n",
              "      border-color: transparent;\n",
              "      border-right-color: var(--fill-color);\n",
              "      border-top-color: var(--fill-color);\n",
              "    }\n",
              "    60% {\n",
              "      border-color: transparent;\n",
              "      border-right-color: var(--fill-color);\n",
              "    }\n",
              "    80% {\n",
              "      border-color: transparent;\n",
              "      border-right-color: var(--fill-color);\n",
              "      border-bottom-color: var(--fill-color);\n",
              "    }\n",
              "    90% {\n",
              "      border-color: transparent;\n",
              "      border-bottom-color: var(--fill-color);\n",
              "    }\n",
              "  }\n",
              "</style>\n",
              "\n",
              "  <script>\n",
              "    async function quickchart(key) {\n",
              "      const quickchartButtonEl =\n",
              "        document.querySelector('#' + key + ' button');\n",
              "      quickchartButtonEl.disabled = true;  // To prevent multiple clicks.\n",
              "      quickchartButtonEl.classList.add('colab-df-spinner');\n",
              "      try {\n",
              "        const charts = await google.colab.kernel.invokeFunction(\n",
              "            'suggestCharts', [key], {});\n",
              "      } catch (error) {\n",
              "        console.error('Error during call to suggestCharts:', error);\n",
              "      }\n",
              "      quickchartButtonEl.classList.remove('colab-df-spinner');\n",
              "      quickchartButtonEl.classList.add('colab-df-quickchart-complete');\n",
              "    }\n",
              "    (() => {\n",
              "      let quickchartButtonEl =\n",
              "        document.querySelector('#df-41299c82-b9d1-4e5e-9096-3e31b19f751a button');\n",
              "      quickchartButtonEl.style.display =\n",
              "        google.colab.kernel.accessAllowed ? 'block' : 'none';\n",
              "    })();\n",
              "  </script>\n",
              "</div>\n",
              "\n",
              "    </div>\n",
              "  </div>\n"
            ],
            "application/vnd.google.colaboratory.intrinsic+json": {
              "type": "dataframe",
              "variable_name": "df",
              "summary": "{\n  \"name\": \"df\",\n  \"rows\": 2000,\n  \"fields\": [\n    {\n      \"column\": \"Data\",\n      \"properties\": {\n        \"dtype\": \"string\",\n        \"num_unique_values\": 2000,\n        \"samples\": [\n          \"Xref: cantaloupe.srv.cs.cmu.edu misc.headlines:41725 talk.politics.misc:178455 soc.culture.african.american:27032\\nPath: cantaloupe.srv.cs.cmu.edu!das-news.harvard.edu!noc.near.net!uunet!enterpoop.mit.edu!senator-bedfellow.mit.edu!senator-bedfellow.mit.edu!usenet\\nFrom: wdstarr@athena.mit.edu (William December Starr)\\nNewsgroups: misc.headlines,talk.politics.misc,soc.culture.african.american\\nSubject: Re: rnitedace and violence\\nDate: 19 Apr 1993 03:25:19 GMT\\nOrganization: Northeastern Law, Class of '93\\nLines: 20\\nDistribution: usa\\nMessage-ID: <1qt62vINN78p@senator-bedfellow.MIT.EDU>\\nReferences: <mdouglasC5nIEu.1w9@netcom.com> <C5ovG2.J24@magpie.linknet.com>\\nNNTP-Posting-Host: nw12-326-1.mit.edu\\nIn-reply-to: neal@magpie.linknet.com (Neal)\\n\\n\\nIn article <C5ovG2.J24@magpie.linknet.com>, \\nneal@magpie.linknet.com (Neal) said:\\n\\n> My views are out of experiences when I was a police officer in a large\\n> metropolitan area, and of a citizen. Unless people account for their\\n> behavior, and for the behavior of their immediate community, nothing\\n> will improve.\\n\\nWait a minute.  I agree with you that people have to take responsibility\\nfor their own behavior (I assume that's what you meant by the word\\n\\\"account\\\"), but also for \\\"the behavior of their immediate community\\\"?\\n\\nFirst of all, how \\\"immediate\\\" are you talking about, and secondly, I\\nhave a lot of trouble with any theory of social behavior or justice\\nwhich charges anyone with the duty of taking responsibility for or\\naccounting for the actions of a different person...\\n\\n-- William December Starr <wdstarr@athena.mit.edu>\\n\\n\",\n          \"Newsgroups: comp.sys.ibm.pc.hardware\\nPath: cantaloupe.srv.cs.cmu.edu!das-news.harvard.edu!noc.near.net!howland.reston.ans.net!gatech!swrinde!network.ucsd.edu!pacbell.com!amdahl!amdcad!dvorak.amd.com!tdbear\\nFrom: tdbear@dvorak.amd.com (Thomas D. Barrett)\\nSubject: Re: Rockwell Chipset for 14.4's ... Any good?\\nMessage-ID: <1993Apr19.012351.13406@dvorak.amd.com>\\nOrganization: Advanced Micro Devices, Inc.; Austin, Texas\\nReferences: <im14u2c.735176900@camelot>\\nDate: Mon, 19 Apr 93 01:23:51 GMT\\nLines: 28\\n\\nIn article <im14u2c.735176900@camelot> im14u2c@camelot.bradley.edu (Joe Zbiciak) writes:\\n>What's the word on the chipset?  Is this a ROM bug specific \\n>to a specific brand using the Rockwell, or is it the Rockwell\\n>chipset itself?\\n\\nThere were an assortment of firmware problems, but that is pretty much\\nexpected with any FAX/modem talking with a different FAX or modem\\nwhich may have also been revised or is new.  I'm pretty much\\noblivious to any current firmware problems, so you'll have to get it\\nfrom someone else.\\n\\nHowever, I can tell you to stay clear of any board which uses the\\nRockwell MPU (as opposed to the DPU) for an internal implementation.\\nThis is because the MPU used \\\"speed buffering\\\" instead of having a\\n16550 interface.  Without the 550 interface, the number of interrupts\\nare still the same and thus may get dropped under multitasking\\nconditions (like in windows).  As far as I know, the \\\"speed buffering\\\"\\nworks OK for external modems if a 550 is used on the internal serial\\nport board.\\n\\nHope this helps...\\nTom\\n\\n-- \\n|Tom Barrett (TDBear), Sr. Engineer|tom.barrett@amd.com|v:512-462-6856 |\\n|AMD PCD MS-520 | 5900 E. Ben White|Austin, TX  78741  |f:512-462-5155 |\\n|...don't take no/take hold/don't leave it to chance ---Tasmin Archer  |\\n|My views are my own and may not be the same as the company of origin  |\\n\",\n          \"Xref: cantaloupe.srv.cs.cmu.edu sci.energy:15692 sci.image.processing:2712 sci.anthropology:2567 sci.skeptic:43417 sci.med:59143\\nNewsgroups: sci.energy,sci.image.processing,sci.anthropology,sci.skeptic,sci.med\\nPath: cantaloupe.srv.cs.cmu.edu!magnesium.club.cc.cmu.edu!news.sei.cmu.edu!cis.ohio-state.edu!zaphod.mps.ohio-state.edu!sdd.hp.com!network.ucsd.edu!news.service.uci.edu!unogate!stgprao\\nFrom: stgprao@st.unocal.COM (Richard Ottolini)\\nSubject: Re: Krillean Photography\\nMessage-ID: <1993Apr22.153815.11961@unocal.com>\\nSender: news@unocal.com (Unocal USENET News)\\nOrganization: Unocal Corporation\\nReferences: <1993Apr19.205615.1013@unlv.edu> <BLS101.93Apr21171051@keating.anu.edu.au> <21APR199316170714@oregon.uoregon.edu>\\nDate: Thu, 22 Apr 1993 15:38:15 GMT\\nLines: 20\\n\\nLiving things maintain small electric fields to (1) enhance certain\\nchemical reactions, (2) promote communication of states with in a cell,\\n(3) communicate between cells (of which the nervous system is a specialized\\nexample), and perhaps other uses.  These electric fields change with location\\nand time in a large organism.  Special photographic techniques such as applying\\nexternal fields in Kirillian photography interact with these fields or the resistances\\ncaused by these fields to make interesting pictures. Perhaps such pictures will\\nbe diagonistic of disease problems in organisms when better understood. Perhaps not.\\n\\nStudying the overall electric activity of biological systems is several hundred\\nyears old, but not a popular activity.  Perhaps, except in the case of a few\\ntissues like nerves and the electric senses of fishes, it is hard to reduce the\\ninvestigation into small pieces that can be clearly analyzed.  There are some\\nhints that manipulating electric fields is a useful therapy such as speeding\\nthe healing of broken bones, but not understood why.\\n\\nBioelectricity has a long association with mysticism. Ideas such as Frankenstein\\nreanimation go back to the most early electrical experiments on tissue such as\\nwhen Volta invented the battery.  I personally don't care to revert to supernatural\\ncause to explain things we don't yet understand.\\n\"\n        ],\n        \"semantic_type\": \"\",\n        \"description\": \"\"\n      }\n    },\n    {\n      \"column\": \"Labels\",\n      \"properties\": {\n        \"dtype\": \"category\",\n        \"num_unique_values\": 20,\n        \"samples\": [\n          \"alt.atheism\",\n          \"talk.politics.mideast\",\n          \"soc.religion.christian\"\n        ],\n        \"semantic_type\": \"\",\n        \"description\": \"\"\n      }\n    }\n  ]\n}"
            }
          },
          "metadata": {},
          "execution_count": 4
        }
      ]
    },
    {
      "cell_type": "code",
      "source": [
        "df.shape"
      ],
      "metadata": {
        "colab": {
          "base_uri": "https://localhost:8080/"
        },
        "id": "G0q0JI8wYJbW",
        "outputId": "01cfbd70-ee5a-4efa-b8b3-d7753ed1325f"
      },
      "execution_count": 7,
      "outputs": [
        {
          "output_type": "execute_result",
          "data": {
            "text/plain": [
              "(2000, 2)"
            ]
          },
          "metadata": {},
          "execution_count": 7
        }
      ]
    },
    {
      "cell_type": "code",
      "source": [
        "# Check for missing values\n",
        "print(df.isnull().sum())"
      ],
      "metadata": {
        "colab": {
          "base_uri": "https://localhost:8080/"
        },
        "id": "CM4EAa1GXS3A",
        "outputId": "9af31d00-b87b-4240-e770-952c1d008585"
      },
      "execution_count": 5,
      "outputs": [
        {
          "output_type": "stream",
          "name": "stdout",
          "text": [
            "Data      0\n",
            "Labels    0\n",
            "dtype: int64\n"
          ]
        }
      ]
    },
    {
      "cell_type": "code",
      "source": [
        "\n",
        "# Basic statistics about the dataset\n",
        "print(df.describe())"
      ],
      "metadata": {
        "colab": {
          "base_uri": "https://localhost:8080/"
        },
        "id": "4lRgkFjxYGT9",
        "outputId": "8f3167ce-242e-4e46-bbc8-17aa12aae22f"
      },
      "execution_count": 6,
      "outputs": [
        {
          "output_type": "stream",
          "name": "stdout",
          "text": [
            "                                                     Data       Labels\n",
            "count                                                2000         2000\n",
            "unique                                               2000           20\n",
            "top     Path: cantaloupe.srv.cs.cmu.edu!magnesium.club...  alt.atheism\n",
            "freq                                                    1          100\n"
          ]
        }
      ]
    },
    {
      "cell_type": "code",
      "source": [
        "import string\n",
        "import re\n",
        "from sklearn.model_selection import train_test_split\n",
        "from sklearn.feature_extraction.text import TfidfVectorizer\n",
        "from nltk.corpus import stopwords\n",
        "import nltk"
      ],
      "metadata": {
        "id": "pczpi2MSYIR7"
      },
      "execution_count": 8,
      "outputs": []
    },
    {
      "cell_type": "code",
      "source": [
        "# Download NLTK stopwords\n",
        "nltk.download('stopwords')"
      ],
      "metadata": {
        "colab": {
          "base_uri": "https://localhost:8080/"
        },
        "id": "f3NnuLCFYm0c",
        "outputId": "b518c9f4-6a56-4f5d-94c1-e297d5212fc1"
      },
      "execution_count": 9,
      "outputs": [
        {
          "output_type": "stream",
          "name": "stderr",
          "text": [
            "[nltk_data] Downloading package stopwords to /root/nltk_data...\n",
            "[nltk_data]   Unzipping corpora/stopwords.zip.\n"
          ]
        },
        {
          "output_type": "execute_result",
          "data": {
            "text/plain": [
              "True"
            ]
          },
          "metadata": {},
          "execution_count": 9
        }
      ]
    },
    {
      "cell_type": "code",
      "source": [
        "# Preprocessing function\n",
        "def preprocess_text(text):\n",
        "    # Convert to lowercase\n",
        "    text = text.lower()\n",
        "    # Remove punctuation\n",
        "    text = text.translate(str.maketrans('', '', string.punctuation))\n",
        "    # Remove numbers\n",
        "    text = re.sub(r'\\d+', '', text)\n",
        "    # Remove stopwords\n",
        "    stop_words = set(stopwords.words('english'))\n",
        "    text = ' '.join([word for word in text.split() if word not in stop_words])\n",
        "    return text"
      ],
      "metadata": {
        "id": "DVtg8oQSYpg8"
      },
      "execution_count": 11,
      "outputs": []
    },
    {
      "cell_type": "code",
      "source": [
        "# Apply preprocessing\n",
        "df['cleaned_text'] = df['Data'].apply(preprocess_text)"
      ],
      "metadata": {
        "id": "BFOI5rKLY0Gm"
      },
      "execution_count": 12,
      "outputs": []
    },
    {
      "cell_type": "code",
      "source": [
        "# Display the cleaned data\n",
        "print(df.head())"
      ],
      "metadata": {
        "colab": {
          "base_uri": "https://localhost:8080/"
        },
        "id": "4ToC3EM9Y5MD",
        "outputId": "e6b6b6bf-a4d8-4abe-b076-5727e8513598"
      },
      "execution_count": 13,
      "outputs": [
        {
          "output_type": "stream",
          "name": "stdout",
          "text": [
            "                                                Data       Labels  \\\n",
            "0  Path: cantaloupe.srv.cs.cmu.edu!magnesium.club...  alt.atheism   \n",
            "1  Newsgroups: alt.atheism\\nPath: cantaloupe.srv....  alt.atheism   \n",
            "2  Path: cantaloupe.srv.cs.cmu.edu!das-news.harva...  alt.atheism   \n",
            "3  Path: cantaloupe.srv.cs.cmu.edu!magnesium.club...  alt.atheism   \n",
            "4  Xref: cantaloupe.srv.cs.cmu.edu alt.atheism:53...  alt.atheism   \n",
            "\n",
            "                                        cleaned_text  \n",
            "0  path cantaloupesrvcscmuedumagnesiumclubcccmued...  \n",
            "1  newsgroups altatheism path cantaloupesrvcscmue...  \n",
            "2  path cantaloupesrvcscmuedudasnewsharvardedunoc...  \n",
            "3  path cantaloupesrvcscmuedumagnesiumclubcccmued...  \n",
            "4  xref cantaloupesrvcscmuedu altatheism talkreli...  \n"
          ]
        }
      ]
    },
    {
      "cell_type": "code",
      "source": [
        "# Initialize TF-IDF Vectorizer\n",
        "tfidf = TfidfVectorizer(max_features=5000)\n",
        "\n",
        "# Transform the cleaned text data\n",
        "X = tfidf.fit_transform(df['cleaned_text']).toarray()\n",
        "\n",
        "# Labels (categories)\n",
        "y = df['Labels']\n",
        "\n",
        "# Split the data into training and testing sets\n",
        "X_train, X_test, y_train, y_test = train_test_split(X, y, test_size=0.2, random_state=42)\n"
      ],
      "metadata": {
        "id": "36Ce6Ex9Y8Z3"
      },
      "execution_count": 14,
      "outputs": []
    },
    {
      "cell_type": "code",
      "source": [
        "print(X_train.shape)\n",
        "print(X_test.shape)\n",
        "print(y_train.shape)\n",
        "print(y_test.shape)"
      ],
      "metadata": {
        "colab": {
          "base_uri": "https://localhost:8080/"
        },
        "id": "EghWHfCfZrQ3",
        "outputId": "5c71e9da-799b-48c6-c0ea-2169725d88ce"
      },
      "execution_count": 16,
      "outputs": [
        {
          "output_type": "stream",
          "name": "stdout",
          "text": [
            "(1600, 5000)\n",
            "(400, 5000)\n",
            "(1600,)\n",
            "(400,)\n"
          ]
        }
      ]
    },
    {
      "cell_type": "markdown",
      "source": [
        "## 2. Naive Bayes Model for Text Classification\n",
        "\n",
        "•\tSplit the data into training and test sets.\n",
        "\n",
        "•\tImplement a Naive Bayes classifier to categorize the blog posts into their respective categories. You can use libraries like scikit-learn for this purpose.\n",
        "\n",
        "•\tTrain the model on the training set and make predictions on the test set.\n"
      ],
      "metadata": {
        "id": "KKVp9Ltua4jI"
      }
    },
    {
      "cell_type": "code",
      "source": [
        "from sklearn.naive_bayes import MultinomialNB\n",
        "from sklearn.metrics import accuracy_score, classification_report, confusion_matrix"
      ],
      "metadata": {
        "id": "9qrlMwXJbMfH"
      },
      "execution_count": 19,
      "outputs": []
    },
    {
      "cell_type": "code",
      "source": [
        "# Initialize the Naive Bayes classifier\n",
        "nb_classifier = MultinomialNB()\n",
        "\n",
        "# Train the model\n",
        "nb_classifier.fit(X_train, y_train)\n",
        "\n",
        "# Make predictions on the test set\n",
        "y_pred = nb_classifier.predict(X_test)\n",
        "\n",
        "# Evaluate the model's performance\n",
        "accuracy = accuracy_score(y_test, y_pred)\n",
        "print(f'Accuracy: {accuracy}')\n",
        "print('Classification Report:')\n",
        "print(classification_report(y_test, y_pred))\n",
        "print('Confusion Matrix:')\n",
        "print(confusion_matrix(y_test, y_pred))\n"
      ],
      "metadata": {
        "colab": {
          "base_uri": "https://localhost:8080/"
        },
        "id": "r9COatnhZ4XC",
        "outputId": "6637c025-f8e1-47d8-abbf-c0e2e9b1df13"
      },
      "execution_count": 21,
      "outputs": [
        {
          "output_type": "stream",
          "name": "stdout",
          "text": [
            "Accuracy: 0.8375\n",
            "Classification Report:\n",
            "                          precision    recall  f1-score   support\n",
            "\n",
            "             alt.atheism       0.50      0.83      0.62        18\n",
            "           comp.graphics       0.70      0.89      0.78        18\n",
            " comp.os.ms-windows.misc       0.91      0.91      0.91        22\n",
            "comp.sys.ibm.pc.hardware       0.80      0.80      0.80        25\n",
            "   comp.sys.mac.hardware       0.86      0.90      0.88        21\n",
            "          comp.windows.x       0.95      0.84      0.89        25\n",
            "            misc.forsale       1.00      0.78      0.88        18\n",
            "               rec.autos       0.90      1.00      0.95        18\n",
            "         rec.motorcycles       1.00      0.94      0.97        16\n",
            "      rec.sport.baseball       0.84      0.89      0.86        18\n",
            "        rec.sport.hockey       0.88      1.00      0.94        15\n",
            "               sci.crypt       0.90      1.00      0.95        19\n",
            "         sci.electronics       0.65      0.69      0.67        16\n",
            "                 sci.med       0.88      0.88      0.88        17\n",
            "               sci.space       1.00      0.86      0.92        21\n",
            "  soc.religion.christian       0.92      0.96      0.94        23\n",
            "      talk.politics.guns       0.85      0.79      0.81        28\n",
            "   talk.politics.mideast       0.95      0.90      0.92        20\n",
            "      talk.politics.misc       0.76      0.89      0.82        18\n",
            "      talk.religion.misc       0.62      0.21      0.31        24\n",
            "\n",
            "                accuracy                           0.84       400\n",
            "               macro avg       0.84      0.85      0.84       400\n",
            "            weighted avg       0.85      0.84      0.83       400\n",
            "\n",
            "Confusion Matrix:\n",
            "[[15  0  0  0  0  0  0  0  0  0  0  1  0  0  0  0  0  0  0  2]\n",
            " [ 0 16  0  1  0  0  0  0  0  0  1  0  0  0  0  0  0  0  0  0]\n",
            " [ 0  0 20  2  0  0  0  0  0  0  0  0  0  0  0  0  0  0  0  0]\n",
            " [ 0  1  1 20  0  0  0  0  0  0  0  0  3  0  0  0  0  0  0  0]\n",
            " [ 0  0  0  1 19  0  0  0  0  0  0  0  1  0  0  0  0  0  0  0]\n",
            " [ 0  3  0  1  0 21  0  0  0  0  0  0  0  0  0  0  0  0  0  0]\n",
            " [ 0  0  1  0  1  0 14  1  0  1  0  0  0  0  0  0  0  0  0  0]\n",
            " [ 0  0  0  0  0  0  0 18  0  0  0  0  0  0  0  0  0  0  0  0]\n",
            " [ 0  0  0  0  0  0  0  0 15  0  0  0  1  0  0  0  0  0  0  0]\n",
            " [ 0  0  0  0  0  0  0  0  0 16  1  0  0  1  0  0  0  0  0  0]\n",
            " [ 0  0  0  0  0  0  0  0  0  0 15  0  0  0  0  0  0  0  0  0]\n",
            " [ 0  0  0  0  0  0  0  0  0  0  0 19  0  0  0  0  0  0  0  0]\n",
            " [ 0  1  0  0  2  0  0  1  0  1  0  0 11  0  0  0  0  0  0  0]\n",
            " [ 0  1  0  0  0  1  0  0  0  0  0  0  0 15  0  0  0  0  0  0]\n",
            " [ 0  1  0  0  0  0  0  0  0  1  0  0  0  0 18  0  1  0  0  0]\n",
            " [ 1  0  0  0  0  0  0  0  0  0  0  0  0  0  0 22  0  0  0  0]\n",
            " [ 0  0  0  0  0  0  0  0  0  0  0  1  1  1  0  0 22  0  3  0]\n",
            " [ 1  0  0  0  0  0  0  0  0  0  0  0  0  0  0  0  0 18  1  0]\n",
            " [ 0  0  0  0  0  0  0  0  0  0  0  0  0  0  0  0  0  1 16  1]\n",
            " [13  0  0  0  0  0  0  0  0  0  0  0  0  0  0  2  3  0  1  5]]\n"
          ]
        }
      ]
    },
    {
      "cell_type": "markdown",
      "source": [
        "## 3. Sentiment Analysis\n",
        "\n",
        "•\tChoose a suitable library or method for performing sentiment analysis on the blog post texts.\n",
        "\n",
        "•\tAnalyze the sentiments expressed in the blog posts and categorize them as positive, negative, or neutral. Consider only the Data column and get the sentiment for each blog.\n",
        "\n",
        "•\tExamine the distribution of sentiments across different categories and summarize your findings.\n"
      ],
      "metadata": {
        "id": "_hlDd6i0bqIt"
      }
    },
    {
      "cell_type": "code",
      "source": [
        "from textblob import TextBlob"
      ],
      "metadata": {
        "id": "emsoyNVAb6Zm"
      },
      "execution_count": 22,
      "outputs": []
    },
    {
      "cell_type": "code",
      "source": [
        "# Function to get sentiment\n",
        "def get_sentiment(text):\n",
        "    analysis = TextBlob(text)\n",
        "    if analysis.sentiment.polarity > 0:\n",
        "        return 'positive'\n",
        "    elif analysis.sentiment.polarity < 0:\n",
        "        return 'negative'\n",
        "    else:\n",
        "        return 'neutral'"
      ],
      "metadata": {
        "id": "iqh2AcLTccFy"
      },
      "execution_count": 26,
      "outputs": []
    },
    {
      "cell_type": "code",
      "source": [
        "# Apply sentiment analysis\n",
        "df['Sentiment'] = df['Data'].apply(get_sentiment)\n",
        "\n",
        "# Display sentiment distribution\n",
        "print(df['Sentiment'].value_counts())\n",
        "\n",
        "# Examine sentiment distribution across categories\n",
        "sentiment_by_category = df.groupby(['Labels', 'Sentiment'])['Sentiment'].count().unstack().fillna(0)\n",
        "print(sentiment_by_category)"
      ],
      "metadata": {
        "colab": {
          "base_uri": "https://localhost:8080/"
        },
        "id": "QwMWEcbWciaG",
        "outputId": "65b56ede-8165-4616-965e-3e1c41962024"
      },
      "execution_count": 27,
      "outputs": [
        {
          "output_type": "stream",
          "name": "stdout",
          "text": [
            "Sentiment\n",
            "positive    1543\n",
            "negative     457\n",
            "Name: count, dtype: int64\n",
            "Sentiment                 negative  positive\n",
            "Labels                                      \n",
            "alt.atheism                     23        77\n",
            "comp.graphics                   24        76\n",
            "comp.os.ms-windows.misc         22        78\n",
            "comp.sys.ibm.pc.hardware        20        80\n",
            "comp.sys.mac.hardware           24        76\n",
            "comp.windows.x                  27        73\n",
            "misc.forsale                    16        84\n",
            "rec.autos                       17        83\n",
            "rec.motorcycles                 26        74\n",
            "rec.sport.baseball              29        71\n",
            "rec.sport.hockey                34        66\n",
            "sci.crypt                       19        81\n",
            "sci.electronics                 19        81\n",
            "sci.med                         29        71\n",
            "sci.space                       27        73\n",
            "soc.religion.christian          13        87\n",
            "talk.politics.guns              30        70\n",
            "talk.politics.mideast           22        78\n",
            "talk.politics.misc              22        78\n",
            "talk.religion.misc              14        86\n"
          ]
        }
      ]
    },
    {
      "cell_type": "markdown",
      "source": [
        "## 4. Evaluation\n",
        "\n",
        "•\tEvaluate the performance of your Naive Bayes classifier using metrics such as accuracy, precision, recall, and F1-score.\n",
        "\n",
        "•\tDiscuss the performance of the model and any challenges encountered during the classification process.\n",
        "\n",
        "•\tReflect on the sentiment analysis results and their implications regarding the content of the blog posts.\n"
      ],
      "metadata": {
        "id": "-06kPnwAcqfr"
      }
    },
    {
      "cell_type": "code",
      "source": [
        "import seaborn as sns\n",
        "import matplotlib.pyplot as plt\n",
        "from sklearn.metrics import precision_score, recall_score, f1_score\n"
      ],
      "metadata": {
        "id": "YmeRCtXacPkB"
      },
      "execution_count": 32,
      "outputs": []
    },
    {
      "cell_type": "code",
      "source": [
        "# Calculate precision, recall, and F1-score\n",
        "precision = precision_score(y_test, y_pred, average='weighted')\n",
        "recall = recall_score(y_test, y_pred, average='weighted')\n",
        "f1 = f1_score(y_test, y_pred, average='weighted')\n",
        "\n",
        "print(f'Precision: {precision}')\n",
        "print(f'Recall: {recall}')\n",
        "print(f'F1-score: {f1}')"
      ],
      "metadata": {
        "colab": {
          "base_uri": "https://localhost:8080/"
        },
        "id": "jKiBpJI-dw9J",
        "outputId": "4ca92dbe-a805-407d-9259-55aa2e7f3729"
      },
      "execution_count": 33,
      "outputs": [
        {
          "output_type": "stream",
          "name": "stdout",
          "text": [
            "Precision: 0.8452391012821253\n",
            "Recall: 0.8375\n",
            "F1-score: 0.8307317416483587\n"
          ]
        }
      ]
    },
    {
      "cell_type": "code",
      "source": [
        "# Distribution of sentiments across categories\n",
        "sentiment_dist = df.groupby('Labels')['Sentiment'].value_counts(normalize=True).unstack().fillna(0)\n"
      ],
      "metadata": {
        "id": "4u6cJSwDdE_V"
      },
      "execution_count": 29,
      "outputs": []
    },
    {
      "cell_type": "code",
      "source": [
        "# Plot the distribution\n",
        "plt.figure(figsize=(10, 8))\n",
        "sns.heatmap(sentiment_dist, annot=True, cmap='coolwarm', cbar=False)\n",
        "plt.title('Sentiment Distribution Across Categories')\n",
        "plt.show()"
      ],
      "metadata": {
        "colab": {
          "base_uri": "https://localhost:8080/",
          "height": 738
        },
        "id": "PPild6vzdIAx",
        "outputId": "81fa817a-3163-4e61-b1f4-2ddea32bbc78"
      },
      "execution_count": 31,
      "outputs": [
        {
          "output_type": "display_data",
          "data": {
            "text/plain": [
              "<Figure size 1000x800 with 1 Axes>"
            ],
            "image/png": "[encoded data removed]"
          },
          "metadata": {}
        }
      ]
    },
    {
      "cell_type": "code",
      "source": [],
      "metadata": {
        "id": "NIk5ixAxdL2x"
      },
      "execution_count": null,
      "outputs": []
    }
  ]
}